{
 "cells": [
  {
   "cell_type": "markdown",
   "metadata": {},
   "source": [
    "# Database design\n",
    "First we have created a database desing.<img src=\"design.png\" />\n",
    "# Creting import tables\n",
    "All the scripts can be found <a href=\"https://github.com/TravisCG/summitimport\">here</a>. Based on the design we created scripts to read the raw text files created by Eric and format it to a proper import table. The first four tables have no foreign keys, so you need to run it first.\n",
    "## Antibody table\n",
    "To create antibody table we have used the antibody.py script."
   ]
  },
  {
   "cell_type": "code",
   "execution_count": null,
   "metadata": {
    "collapsed": true
   },
   "outputs": [],
   "source": [
    "python3 antibody.py ../../experiment_stats/TF_stat_table_final.tbl ../../experiment_stats/Cofactor_stat_table_final.tbl >../tables_txt/antibody.tsv"
   ]
  },
  {
   "cell_type": "markdown",
   "metadata": {},
   "source": [
    "## Cell_lines table"
   ]
  },
  {
   "cell_type": "code",
   "execution_count": null,
   "metadata": {
    "collapsed": true
   },
   "outputs": [],
   "source": [
    "python3 celllines.py ../../experiment_stats/Cofactor_stat_table_final.tbl ../../experiment_stats/TF_stat_table_final.tbl >../tables_txt/cell_lines.tsv"
   ]
  },
  {
   "cell_type": "markdown",
   "metadata": {},
   "source": [
    "## Genome table\n",
    "This table is very simple. Right now contains only two entries. This script is just a place holder for future."
   ]
  },
  {
   "cell_type": "code",
   "execution_count": null,
   "metadata": {
    "collapsed": true
   },
   "outputs": [],
   "source": [
    "python3 genome.py >../tables_txt/genome.tsv"
   ]
  },
  {
   "cell_type": "markdown",
   "metadata": {},
   "source": [
    "## Consensus_motif table"
   ]
  },
  {
   "cell_type": "code",
   "execution_count": null,
   "metadata": {
    "collapsed": true
   },
   "outputs": [],
   "source": [
    "python3 consensus.py ../../motif_info/motif_info_final.tbl >../tables_txt/consensus_motif.tsv"
   ]
  },
  {
   "cell_type": "markdown",
   "metadata": {},
   "source": [
    "## Experiment table\n",
    "The creation of this table depends on the Anitbody, Cell_lines and Genome tables."
   ]
  },
  {
   "cell_type": "code",
   "execution_count": null,
   "metadata": {
    "collapsed": true
   },
   "outputs": [],
   "source": [
    "python3 experiment.py ../tables_txt/antibody.tsv ../tables_txt/celllines.tsv ../tables_txt/genome.tsv ../../experiment_stats/TF_stat_table_final.tbl ../../experiment_stats/Cofactor_stat_table_final.tbl >../tables_txt/experiment.tsv"
   ]
  },
  {
   "cell_type": "markdown",
   "metadata": {},
   "source": [
    "## Denovo_motif table\n",
    "Right now one experiment has only one denovo motif, but later additional motifs can be added. This import script only works with 1-1 corrispondence."
   ]
  },
  {
   "cell_type": "code",
   "execution_count": null,
   "metadata": {
    "collapsed": true
   },
   "outputs": [],
   "source": [
    "python3 denovo.py ../../experiment_stats/TF_stat_table_final.tbl ../../experiment_stats/Cofactor_stat_table_final.tbl >../tables_txt/denovo_motif.tsv"
   ]
  },
  {
   "cell_type": "markdown",
   "metadata": {},
   "source": [
    "## anti2cons table\n",
    "This table is a connection between Antibody and Consensus_motif. Because there are experiments in the motif_info table, whose not in the experiment table, the script will skip some records."
   ]
  },
  {
   "cell_type": "code",
   "execution_count": null,
   "metadata": {
    "collapsed": true
   },
   "outputs": [],
   "source": [
    "python3 anti2cons.py ../tables_txt/consensus_motif.tsv ../tables_txt/antibody.tsv ../../motif_info/motif_info_final.tbl >../tables_txt/anti2cons.tsv"
   ]
  },
  {
   "cell_type": "markdown",
   "metadata": {},
   "source": [
    "## Average_deviation table\n",
    "To create this table I need to read a lots of files. For some unknown reason I can see var2 and var3 files. For example: hs_TFAP2C-var.3_distancestat.tbl. Right now my script does not handle variations, so skip them."
   ]
  },
  {
   "cell_type": "code",
   "execution_count": null,
   "metadata": {
    "collapsed": true
   },
   "outputs": [],
   "source": [
    "python3 avrdevi.py ../tables_txt/experiment.tsv ../tables_txt/consensus_motif.tsv ../../MedianAverage_dataTable/factor/* ../../MedianAverage_dataTable/cofactor/* >../tables_txt/average_deviation.tsv"
   ]
  },
  {
   "cell_type": "markdown",
   "metadata": {},
   "source": [
    "## Motif_pos table\n",
    "Creating motif_pos table is quite straight forward. The only questionable part is the trivial field in the table. Right now I calculate it from the motif start and motif end position. The following file is bugous, so the script will skip it:\n",
    "../../motif_vs_summit_distances/factor/ZNF740_datatable.tbl\n",
    "The script also skip var2 and var3 files."
   ]
  },
  {
   "cell_type": "code",
   "execution_count": null,
   "metadata": {
    "collapsed": true
   },
   "outputs": [],
   "source": [
    "python3 motifpos.py ../tables_txt/consensus_motif.tsv ../../motif_vs_summit_distances/factor/* ../../motif_vs_summit_distances/cofactor/* >../tables_txt/motif_pos.tsv"
   ]
  },
  {
   "cell_type": "markdown",
   "metadata": {},
   "source": [
    "## Peak table\n",
    "If an experiment did not exists in the experiment table, the script will skip it."
   ]
  },
  {
   "cell_type": "code",
   "execution_count": null,
   "metadata": {
    "collapsed": true
   },
   "outputs": [],
   "source": [
    "python3 peak.py ../tables_txt/experiment.tsv ../../homer_peakstext/TF/* ../../homer_peakstext/cofactor/* >../tables_txt/peak.tsv"
   ]
  },
  {
   "cell_type": "markdown",
   "metadata": {},
   "source": [
    "## Summit table\n",
    "This is the most complicated step, because the peak table is 5.6GB. This file is too big to store it in memory. It is a two step process.\n",
    "\n",
    "In the first step we create an intermediate summit file using the experiment name and the motif positions."
   ]
  },
  {
   "cell_type": "code",
   "execution_count": null,
   "metadata": {
    "collapsed": true
   },
   "outputs": [],
   "source": [
    "python3 summit.py ../tables_txt/consensus_motif.tsv ../tables_txt/motif_pos.tsv ../../motif_vs_summit_distances/factor/* ../../motif_vs_summit_distances/cofactor/* >../tables_txt/tmp1.tsv"
   ]
  },
  {
   "cell_type": "markdown",
   "metadata": {},
   "source": [
    "The intermediate file (tmp1.tsv) is also quite big (11GB), so the next step process only one chromosome. It is use less memory and we can run it parallel. The first parameter is the chromosome name."
   ]
  },
  {
   "cell_type": "code",
   "execution_count": null,
   "metadata": {
    "collapsed": true
   },
   "outputs": [],
   "source": [
    "python3 summit2.py 1 ../tables_txt/peak.tsv ../tables_txt/experiment.tsv ../tables_txt/tmp1.tsv >../tables_txt/summit.chr1.tsv &\n",
    "python3 summit2.py 2 ../tables_txt/peak.tsv ../tables_txt/experiment.tsv ../tables_txt/tmp1.tsv >../tables_txt/summit.chr2.tsv &\n",
    "python3 summit2.py 3 ../tables_txt/peak.tsv ../tables_txt/experiment.tsv ../tables_txt/tmp1.tsv >../tables_txt/summit.chr3.tsv &\n",
    "python3 summit2.py 4 ../tables_txt/peak.tsv ../tables_txt/experiment.tsv ../tables_txt/tmp1.tsv >../tables_txt/summit.chr4.tsv &"
   ]
  },
  {
   "cell_type": "markdown",
   "metadata": {},
   "source": [
    "There is a wrapper script which runs four chromosomes parallel (runallchr.sh). Finally we need to concatenate all the summit.chr\\*.tsv files. There is no primary key, so the order of the files in the concatenation does not matter. The primary key is created by awk."
   ]
  },
  {
   "cell_type": "code",
   "execution_count": null,
   "metadata": {
    "collapsed": true
   },
   "outputs": [],
   "source": [
    "cat summit.chr1.tsv summit.chr2.tsv summit.chr3.tsv summit.chr4.tsv summit.chr5.tsv summit.chr6.tsv summit.chr7.tsv summit.chr8.tsv summit.chr9.tsv summit.chr10.tsv summit.chr11.tsv summit.chr12.tsv summit.chr13.tsv summit.chr14.tsv summit.chr15.tsv summit.chr16.tsv summit.chr17.tsv summit.chr18.tsv summit.chr19.tsv summit.chr20.tsv summit.chr21.tsv summit.chr22.tsv summit.chrX.tsv summit.chrY.tsv | awk '{print NR\"\\t\"$0}'>summit.tsv"
   ]
  },
  {
   "cell_type": "markdown",
   "metadata": {},
   "source": [
    "## dbsnp table"
   ]
  },
  {
   "cell_type": "markdown",
   "metadata": {},
   "source": [
    "## reference table"
   ]
  },
  {
   "cell_type": "markdown",
   "metadata": {},
   "source": [
    "## pfm table"
   ]
  },
  {
   "cell_type": "markdown",
   "metadata": {},
   "source": [
    "# Creating the database\n",
    "All the table creation process can be found in the table.ddl file. Do not forget: you need to delete the tables if you want to rerun this command!"
   ]
  },
  {
   "cell_type": "code",
   "execution_count": null,
   "metadata": {
    "collapsed": true
   },
   "outputs": [],
   "source": [
    "mysql -u root -pgro89SEQ summitdb <tables.ddl"
   ]
  },
  {
   "cell_type": "markdown",
   "metadata": {},
   "source": [
    "# Importing the tables\n",
    "Because the name of the input files is the same as the database tables we can use mysqlimport to read all the files."
   ]
  },
  {
   "cell_type": "code",
   "execution_count": null,
   "metadata": {
    "collapsed": true
   },
   "outputs": [],
   "source": [
    "mysqlimport -u root -pgro89SEQ --local=1 summitdb antibody.tsv cell_lines.tsv consensus_motif.tsv genome.tsv anti2cons.tsv experiment.tsv denovo_motif.tsv peak.tsv motif_pos.tsv summit.tsv average_deviation.tsv"
   ]
  }
 ],
 "metadata": {
  "anaconda-cloud": {},
  "kernelspec": {
   "display_name": "Python 3",
   "language": "python",
   "name": "python3"
  },
  "language_info": {
   "codemirror_mode": {
    "name": "ipython",
    "version": 3
   },
   "file_extension": ".py",
   "mimetype": "text/x-python",
   "name": "python",
   "nbconvert_exporter": "python",
   "pygments_lexer": "ipython3",
   "version": "3.6.7"
  }
 },
 "nbformat": 4,
 "nbformat_minor": 1
}
